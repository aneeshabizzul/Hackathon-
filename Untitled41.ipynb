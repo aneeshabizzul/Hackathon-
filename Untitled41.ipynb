{
 "cells": [
  {
   "cell_type": "code",
   "execution_count": 2,
   "id": "56ccec6e-6655-43fa-92e0-1f15a04e4d46",
   "metadata": {},
   "outputs": [],
   "source": [
    "import pandas as pd\n",
    "import numpy as np"
   ]
  },
  {
   "cell_type": "markdown",
   "id": "4ce90059-4041-4e27-a658-0fa7025d8354",
   "metadata": {},
   "source": [
    "# ------------------------  Step 1: Create Historical Data ------------------------"
   ]
  },
  {
   "cell_type": "code",
   "execution_count": 5,
   "id": "067bd00c-21ce-461d-9e96-de70f33ef0ed",
   "metadata": {},
   "outputs": [],
   "source": [
    "def generate_historical_data():\n",
    "    \"\"\"Generate synthetic historical reconciliation data\"\"\"\n",
    "    data = {\n",
    "        \"As_of_Date\": pd.date_range(start=\"2023-01-01\", periods=100, freq=\"M\").strftime(\"%Y-%m-%d\"),\n",
    "        \"Company\": np.random.choice([\"00000\", \"00002\", \"4398\", \"20000\"], 100),\n",
    "        \"Currency\": np.random.choice([\"USD\", \"EUR\", \"GBP\", \"INR\"], 100),\n",
    "        \"GL_Balance\": np.random.randint(10000, 200000, 100),\n",
    "        \"IHub_Balance\": np.random.randint(10000, 200000, 100),\n",
    "        \"Balance_Difference\": np.random.randint(-50000, 50000, 100),\n",
    "        \"Primary_Account\": np.random.choice([\"ALL OTHER LOANS\", \"DEFERRED COSTS\", \"PRINCIPAL\"], 100),\n",
    "        \"Secondary_Account\": np.random.choice([\"DEFERRED COSTS\", \"DEFERRED ORIGINATION FEES\", \"PRINCIPAL\"], 100),\n",
    "        \"Match_Status\": np.random.choice([\"Match\", \"Break\"], 100, p=[0.7, 0.3]),\n",
    "        \"Comments\": np.random.choice([\n",
    "            \"Inconsistent variations in balances\",\n",
    "            \"Consistent increase or decrease\",\n",
    "            \"Huge spike in balances\",\n",
    "            \"Balances are in line with previous months\"\n",
    "        ], 100),\n",
    "        \"Anomaly\": np.random.choice([\"Yes\", \"No\"], 100, p=[0.3, 0.7])\n",
    "    }\n",
    "    \n",
    "    df = pd.DataFrame(data)\n",
    "    df.to_csv(\"historical_data.csv\", index=False)"
   ]
  },
  {
   "cell_type": "code",
   "execution_count": 20,
   "id": "d24a15a2-5348-442d-8a9c-6449264d7faf",
   "metadata": {},
   "outputs": [
    {
     "name": "stdout",
     "output_type": "stream",
     "text": [
      "Historical data saved as 'historical_data.csv'\n"
     ]
    }
   ],
   "source": [
    "print(\"Historical data saved as 'historical_data.csv'\")"
   ]
  },
  {
   "cell_type": "markdown",
   "id": "6dc174ee-fe6d-4b1b-99d7-8fb2b2c46df0",
   "metadata": {},
   "source": [
    "# ------------------------  Step 2: Create Real-Time Data ------------------------"
   ]
  },
  {
   "cell_type": "code",
   "execution_count": 11,
   "id": "14a9896a-44bd-4d87-9a5e-dd34c2244f6f",
   "metadata": {},
   "outputs": [],
   "source": [
    "def generate_real_time_data():\n",
    "    \"\"\"Generate synthetic real-time reconciliation data\"\"\"\n",
    "    data = {\n",
    "        \"RISK_DATE\": pd.date_range(start=\"2025-03-01\", periods=10, freq=\"D\").strftime(\"%Y-%m-%d\"),\n",
    "        \"MatchStatus\": np.random.choice([\"Break\", \"Match\"], 10, p=[0.4, 0.6]),\n",
    "        \"Quantity_Break\": np.random.randint(-50000, 50000, 10),\n",
    "        \"Price_Break\": np.random.uniform(-100.0, 100.0, 10).round(2),\n",
    "        \"Trade_Date\": pd.date_range(start=\"2025-03-01\", periods=10, freq=\"D\").strftime(\"%Y-%m-%d\"),\n",
    "        \"Settle_Date\": pd.date_range(start=\"2025-03-03\", periods=10, freq=\"D\").strftime(\"%Y-%m-%d\"),\n",
    "        \"Inventory_Price\": np.random.uniform(20.0, 100.0, 10).round(2),\n",
    "        \"Trade_ID\": np.random.randint(100000, 999999, 10),\n",
    "        \"Desk_Name\": np.random.choice([\"RMBS\", \"Treasury\", \"High Yield\", \"High Grade\"], 10),\n",
    "        \"PRICE_TOLERANCE\": np.random.uniform(0.001, 0.01, 10).round(4),\n",
    "        \"QUANTITY_TOLERANCE\": np.random.randint(0, 5, 10),\n",
    "        \"ACTION_SUBTYPE\": np.random.choice([\"ALLOCATING\", \"SUBMITALLOC\", \"TRADEUPDATE\", \"RESEND TO EXT SYS\"], 10),\n",
    "        \"BUYSELL\": np.random.choice([\"BUY\", \"SELL\"], 10),\n",
    "        \"COMMENTS\": np.random.choice([\n",
    "            \"Factor rounding is causing minor delta\",\n",
    "            \"Blotter code update caused false break\",\n",
    "            \"Interest update due to periodic VAR update\",\n",
    "            \"Price break due to rounding\"\n",
    "        ], 10)\n",
    "    }\n",
    "\n",
    "    df = pd.DataFrame(data)\n",
    "    df.to_csv(\"real_time_data.csv\", index=False)"
   ]
  },
  {
   "cell_type": "code",
   "execution_count": 18,
   "id": "e7de472f-d1a4-4a5b-b622-6c607f69e749",
   "metadata": {},
   "outputs": [
    {
     "name": "stdout",
     "output_type": "stream",
     "text": [
      " Real-time data saved as 'real_time_data.csv'\n"
     ]
    }
   ],
   "source": [
    " print(\" Real-time data saved as 'real_time_data.csv'\")"
   ]
  },
  {
   "cell_type": "markdown",
   "id": "4a2518fc-e711-411e-918d-722868e74993",
   "metadata": {},
   "source": [
    "# ------------------------  Step 3: Generate and Save Data ------------------------"
   ]
  },
  {
   "cell_type": "code",
   "execution_count": 22,
   "id": "af4e0ce0-9a17-422a-adc1-762e3b97e2ee",
   "metadata": {},
   "outputs": [],
   "source": [
    "if __name__ == \"__main__\":\n",
    "    generate_historical_data()\n",
    "    generate_real_time_data()"
   ]
  },
  {
   "cell_type": "code",
   "execution_count": 26,
   "id": "b01d371c-f30b-4c84-b5d7-040a6335a075",
   "metadata": {},
   "outputs": [
    {
     "name": "stdout",
     "output_type": "stream",
     "text": [
      "First 5 rows of Historical Data:\n",
      "\n",
      "   As_of_Date  Company Currency  GL_Balance  IHub_Balance  Balance_Difference  \\\n",
      "0  2023-01-31        0      GBP      191675        107227               27826   \n",
      "1  2023-02-28        0      USD      142007         75529                4116   \n",
      "2  2023-03-31     4398      EUR      163414        187118               42866   \n",
      "3  2023-04-30     4398      INR       16588         11338              -49270   \n",
      "4  2023-05-31     4398      GBP      195469        150344               -7773   \n",
      "\n",
      "   Primary_Account          Secondary_Account Match_Status  \\\n",
      "0        PRINCIPAL  DEFERRED ORIGINATION FEES        Match   \n",
      "1   DEFERRED COSTS                  PRINCIPAL        Match   \n",
      "2        PRINCIPAL             DEFERRED COSTS        Match   \n",
      "3  ALL OTHER LOANS  DEFERRED ORIGINATION FEES        Match   \n",
      "4   DEFERRED COSTS  DEFERRED ORIGINATION FEES        Break   \n",
      "\n",
      "                                    Comments Anomaly  \n",
      "0            Consistent increase or decrease      No  \n",
      "1                     Huge spike in balances      No  \n",
      "2        Inconsistent variations in balances      No  \n",
      "3                     Huge spike in balances      No  \n",
      "4  Balances are in line with previous months     Yes  \n",
      "\n",
      "==================================================\n",
      "\n"
     ]
    }
   ],
   "source": [
    "# Load Historical Data\n",
    "historical_df = pd.read_csv(\"historical_data.csv\")\n",
    "print(\"First 5 rows of Historical Data:\\n\")\n",
    "print(historical_df.head())\n",
    "\n",
    "print(\"\\n\" + \"=\"*50 + \"\\n\")\n"
   ]
  },
  {
   "cell_type": "code",
   "execution_count": 28,
   "id": "3e7975da-db6f-4bd3-bd63-42f5420aef7a",
   "metadata": {},
   "outputs": [
    {
     "name": "stdout",
     "output_type": "stream",
     "text": [
      " First 5 rows of Real-Time Data:\n",
      "\n",
      "    RISK_DATE MatchStatus  Quantity_Break  Price_Break  Trade_Date  \\\n",
      "0  2025-03-01       Match          -46540       -96.41  2025-03-01   \n",
      "1  2025-03-02       Match           35233         8.99  2025-03-02   \n",
      "2  2025-03-03       Break           17806        71.51  2025-03-03   \n",
      "3  2025-03-04       Match           47669        73.93  2025-03-04   \n",
      "4  2025-03-05       Break           36121       -61.06  2025-03-05   \n",
      "\n",
      "  Settle_Date  Inventory_Price  Trade_ID   Desk_Name  PRICE_TOLERANCE  \\\n",
      "0  2025-03-03            31.10    887039    Treasury           0.0074   \n",
      "1  2025-03-04            44.12    897241  High Grade           0.0012   \n",
      "2  2025-03-05            80.13    384965        RMBS           0.0063   \n",
      "3  2025-03-06            45.23    612520        RMBS           0.0079   \n",
      "4  2025-03-07            75.12    668993  High Yield           0.0015   \n",
      "\n",
      "   QUANTITY_TOLERANCE ACTION_SUBTYPE BUYSELL  \\\n",
      "0                   0     ALLOCATING    SELL   \n",
      "1                   2    TRADEUPDATE    SELL   \n",
      "2                   1    TRADEUPDATE     BUY   \n",
      "3                   4    SUBMITALLOC     BUY   \n",
      "4                   3    TRADEUPDATE     BUY   \n",
      "\n",
      "                                     COMMENTS  \n",
      "0  Interest update due to periodic VAR update  \n",
      "1  Interest update due to periodic VAR update  \n",
      "2      Factor rounding is causing minor delta  \n",
      "3                 Price break due to rounding  \n",
      "4                 Price break due to rounding  \n"
     ]
    }
   ],
   "source": [
    "# Load Real-Time Data\n",
    "real_time_df = pd.read_csv(\"real_time_data.csv\")\n",
    "print(\" First 5 rows of Real-Time Data:\\n\")\n",
    "print(real_time_df.head())"
   ]
  },
  {
   "cell_type": "code",
   "execution_count": null,
   "id": "4343f165-1451-4a78-8977-1dbd895e85f6",
   "metadata": {},
   "outputs": [],
   "source": []
  }
 ],
 "metadata": {
  "kernelspec": {
   "display_name": "Python [conda env:base] *",
   "language": "python",
   "name": "conda-base-py"
  },
  "language_info": {
   "codemirror_mode": {
    "name": "ipython",
    "version": 3
   },
   "file_extension": ".py",
   "mimetype": "text/x-python",
   "name": "python",
   "nbconvert_exporter": "python",
   "pygments_lexer": "ipython3",
   "version": "3.11.5"
  }
 },
 "nbformat": 4,
 "nbformat_minor": 5
}
